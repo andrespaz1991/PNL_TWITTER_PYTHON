{
  "nbformat": 4,
  "nbformat_minor": 0,
  "metadata": {
    "colab": {
      "name": "PNL-TWITTER-PYTHON.ipynb",
      "provenance": [],
      "collapsed_sections": [],
      "authorship_tag": "ABX9TyPT8ufLRPCgOUbFx1HUgNaJ",
      "include_colab_link": true
    },
    "kernelspec": {
      "name": "python3",
      "display_name": "Python 3"
    },
    "language_info": {
      "name": "python"
    }
  },
  "cells": [
    {
      "cell_type": "markdown",
      "metadata": {
        "id": "view-in-github",
        "colab_type": "text"
      },
      "source": [
        "<a href=\"https://colab.research.google.com/github/andrespaz1991/PNL_TWITTER_PYTHON/blob/main/PNL_TWITTER_PYTHON.ipynb\" target=\"_parent\"><img src=\"https://colab.research.google.com/assets/colab-badge.svg\" alt=\"Open In Colab\"/></a>"
      ]
    },
    {
      "cell_type": "markdown",
      "source": [
        "# Buscar tweets"
      ],
      "metadata": {
        "id": "cFlTSpiPu4DY"
      }
    },
    {
      "cell_type": "markdown",
      "source": [
        "# Clase de análisis de twitter"
      ],
      "metadata": {
        "id": "B5Mh3HTnYSbC"
      }
    },
    {
      "cell_type": "code",
      "source": [
        "class twitter():\n",
        "  def __init__(self):\n",
        "    print(\"\")\n",
        "  try:\n",
        "     import tweepy\n",
        "  except ImportError:\n",
        "     !pip install tweepy\n",
        "     import tweepy\n",
        "############################################################################\n",
        "  def conectar_twitter(self):\n",
        "    import tweepy\n",
        "    API_KEY = ''\n",
        "    API_SECRET_KEY = ''\n",
        "    ACCESS_TOKEN = ''\n",
        "    ACCESS_TOKEN_SECRET = ''\n",
        "    auth = tweepy.OAuthHandler(API_KEY, API_SECRET_KEY)\n",
        "    auth.set_access_token(ACCESS_TOKEN, ACCESS_TOKEN_SECRET)\n",
        "    api = tweepy.API(auth)\n",
        "    return api\n",
        "############################################################################\n",
        "  def Analizar_Mi_Feed(self):\n",
        "    api=self.conectar_twitter()\n",
        "    public_tweets = api.home_timeline()\n",
        "    return public_tweets\n",
        "###################################################################\n",
        "  def hashtag(self,numtweet,idioma): \n",
        "    import pandas as pd \n",
        "    import tweepy\n",
        "    #words = input(\"Ingresa el hashtag desdeado #\") \n",
        "    words=\"amor\"\n",
        "    words=\"#\"+words\n",
        "    #date_since = input(\"Ingresa la fecha desde que se busque los tweets yyyy-mm--dd\") \n",
        "    date_since=\"2022-04-18\"\n",
        "    api=self.conectar_twitter()\n",
        "    db = pd.DataFrame(columns=['username', 'description', 'location', 'following', \n",
        "                                'followers', 'totaltweets', 'retweetcount', 'text', 'hashtags']) \n",
        "    tweets = tweepy.Cursor(api.search, q=words, lang=idioma, \n",
        "                            since=date_since, tweet_mode='extended').items(numtweet) \n",
        "    list_tweets = [tweet for tweet in tweets] \n",
        "    self.imprimir(list_tweets)\n",
        "          \n",
        "    filename = 'scraped_tweets.csv'\n",
        "    db.to_csv(filename)     \n",
        "    print('Proceso terminado!')\n",
        "##############################################################################\n",
        "  def imprimir(self,ith_tweet):\n",
        "    contador=1\n",
        "    caracteristicas=(\"usuario\",\"Descripción\",\"Ubicación\",\"Cantidad de Seguidores\",\"Siguiendo\",\"Total Tweets\",\"Cantidad de Retweet\",\"Tweett\",\"Hashtags\")\n",
        "    info=(\"tweet.user.screen_name\",\"tweet.user.description\",\"tweet.user.location\",\"tweet.user.friends_count\",\"tweet.user.followers_count\",\"tweet.user.statuses_count\",\"tweet.retweet_count\",\"tweet.entities['hashtags']\")\n",
        "    for tweet in ith_tweet: \n",
        "        print(\"#\"*32)\n",
        "        for j in range(len(info)):\n",
        "          if caracteristicas[j]!=\"Hashtags\":\n",
        "            print(caracteristicas[j],eval(info[j]))\n",
        "          else:\n",
        "            hashtags = tweet.entities['hashtags']\n",
        "#########################################################\n",
        "  def BuscarTweet(self,palabra,idioma):\n",
        "      quitar_usuarios=True\n",
        "      descargar=False\n",
        "      caracter=\"@\"\n",
        "      twitter=self.conectar_twitter()    \n",
        "      import pandas as pd \n",
        "      import tweepy\n",
        "      from google.colab import files\n",
        "      from textblob import TextBlob\n",
        "      resultados = twitter.search(q=palabra,lang=idioma)\n",
        "      usuarios=list()\n",
        "      tweets=list()\n",
        "      df=pd.DataFrame()\n",
        "      for tweet in resultados:\n",
        "        if quitar_usuarios==True:\n",
        "          texto=extraer_usuarios(tweet.text,caracter)\n",
        "        else:\n",
        "          texto=tweet.text\n",
        "        tweets.append(texto)\n",
        "        usuarios.append(tweet.user.screen_name)\n",
        "      df['usuarios'] = usuarios\n",
        "      df['tweets'] = tweets\n",
        "      if descargar==True:\n",
        "        df.to_csv('tweets.csv',index=False,encoding='utf-8-sig') \n",
        "        files.download('tweets.csv')\n",
        "      else:\n",
        "        print(df)    \n",
        "      \n",
        "  def extraer_usuarios(texto,palabra_buscada):\n",
        "      string=texto\n",
        "      palabra=palabra_buscada\n",
        "      resultado=list(filter(lambda x: x[:len(palabra)]==palabra, string.split()))\n",
        "      for contenido in resultado:\n",
        "        texto= texto.replace(palabra,\"\")\n",
        "      return texto\n",
        "      \n",
        "##################################### llamados de metodos\n",
        "Mitwitter=twitter()\n",
        "#tweets= Mitwitter.Analizar_Mi_Feed\n",
        "#for tweet in public_tweets:\n",
        "        #print(f'{tweet.user.screen_name}:\\n{tweet.text}\\n{\"*\"*60}')\n",
        "#resultado=Mitwitter.hashtag(2,\"es\") #cantiddad de twitter e idioma\n",
        "Mitwitter.BuscarTweet(\"iphone\",\"es\")\n",
        "\n",
        "      \n",
        " \n",
        "    \n",
        "    \n",
        "\n",
        "\n"
      ],
      "metadata": {
        "colab": {
          "base_uri": "https://localhost:8080/"
        },
        "id": "04e2iovGYQ6T",
        "outputId": "5e327e03-0a80-4941-a5a9-7745f32cf8a1"
      },
      "execution_count": 224,
      "outputs": [
        {
          "output_type": "stream",
          "name": "stdout",
          "text": [
            "\n",
            "           usuarios                                             tweets\n",
            "0          cluna_76  ProfeJuAntonio hola Juan, un gusto saludarte d...\n",
            "1     Doralyurdanet  RT JulianaBoteroM: El iPhone 8 plus tiene la m...\n",
            "2      HPTXSoftware  ¿Tienes un ‘wallet’ de criptomonedas en tu iPh...\n",
            "3    maalewallingre  están en oferta los iPhone o que, que todos lo...\n",
            "4     jade_carozzo9         gabriielghz Yo ni con iPhone tengo arreglo\n",
            "5         Rochiii_f  RT TatiHernando: Vendo Iphone 6 128 gb color d...\n",
            "6       carolm_____  Mi iPhone 7 tenía mejor cámara que el 11 😔 htt...\n",
            "7     Montesmonica1  Tuve un mini infarto pensando que había votado...\n",
            "8   NancySeguelPer1  RT candrews_cl: Si tu hijo ABC1 vota Apruebo, ...\n",
            "9          yisusake  el otro día vi varios iPhone 12/13 mini y d ve...\n",
            "10        ngelicrap  todo este hilo está lleno de promociones de iP...\n",
            "11        PabloLu01  RT GranateMecanico: Mas inseguro que caminar p...\n",
            "12          Nexofin  Atención: cómo saber la última ubicación de un...\n",
            "13       JuliCeli10  No me gane el iPhone pero se lo ganó una piba ...\n",
            "14           RISRCN  AppleParaTodos_ En un iPhone no en cualquier d...\n"
          ]
        }
      ]
    }
  ]
}